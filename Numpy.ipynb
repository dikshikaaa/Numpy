{
  "nbformat": 4,
  "nbformat_minor": 0,
  "metadata": {
    "colab": {
      "provenance": [],
      "authorship_tag": "ABX9TyOosyWirW3BYnyXat07QZHc",
      "include_colab_link": true
    },
    "kernelspec": {
      "name": "python3",
      "display_name": "Python 3"
    },
    "language_info": {
      "name": "python"
    }
  },
  "cells": [
    {
      "cell_type": "markdown",
      "metadata": {
        "id": "view-in-github",
        "colab_type": "text"
      },
      "source": [
        "<a href=\"https://colab.research.google.com/github/dikshikaaa/Numpy/blob/main/Numpy.ipynb\" target=\"_parent\"><img src=\"https://colab.research.google.com/assets/colab-badge.svg\" alt=\"Open In Colab\"/></a>"
      ]
    },
    {
      "cell_type": "markdown",
      "source": [
        "#Numpy =  Numerical Operations"
      ],
      "metadata": {
        "id": "zTgVgcBdY8F6"
      }
    },
    {
      "cell_type": "code",
      "source": [
        "import numpy as np"
      ],
      "metadata": {
        "id": "6aDVhsQ9M9Wt"
      },
      "execution_count": null,
      "outputs": []
    },
    {
      "cell_type": "markdown",
      "source": [
        "List vs. Numpy\n",
        "\n",
        "Time efficiency and more operations possible"
      ],
      "metadata": {
        "id": "zYQUM8myZAlg"
      }
    },
    {
      "cell_type": "code",
      "source": [
        "from time import process_time"
      ],
      "metadata": {
        "id": "_tv7yxCJkji0"
      },
      "execution_count": null,
      "outputs": []
    },
    {
      "cell_type": "code",
      "source": [
        "python_list = [i for i in range(10000)]\n",
        "\n",
        "start_time = process_time()\n",
        "\n",
        "python_list = [i + 5 for i in python_list]\n",
        "\n",
        "end_time = process_time()\n",
        "\n",
        "print(end_time - start_time )"
      ],
      "metadata": {
        "colab": {
          "base_uri": "https://localhost:8080/"
        },
        "id": "t0LMcGSY9x7K",
        "outputId": "37ea0ea9-0ee5-43b0-ce61-d8767e37083b"
      },
      "execution_count": null,
      "outputs": [
        {
          "output_type": "stream",
          "name": "stdout",
          "text": [
            "0.0011931519999999196\n"
          ]
        }
      ]
    },
    {
      "cell_type": "code",
      "source": [
        "np_array = np.array ([i for i in range(100)])\n",
        "\n",
        "start_time = process_time()\n",
        "\n",
        "np_array += 5\n",
        "\n",
        "end_time = process_time()\n",
        "\n",
        "print(end_time - start_time )"
      ],
      "metadata": {
        "colab": {
          "base_uri": "https://localhost:8080/"
        },
        "id": "WpjL1Pfb950K",
        "outputId": "57705e27-891b-44d0-c5b7-385bebed26c0"
      },
      "execution_count": null,
      "outputs": [
        {
          "output_type": "stream",
          "name": "stdout",
          "text": [
            "6.827499999983999e-05\n"
          ]
        }
      ]
    },
    {
      "cell_type": "markdown",
      "source": [
        "Dimentional Array"
      ],
      "metadata": {
        "id": "pzPgEniOZLvA"
      }
    },
    {
      "cell_type": "code",
      "source": [
        "#1 dimentional\n",
        "np_array = np.array([1, 2, 3, 4, 5])\n",
        "print(np_array)\n",
        "print(np_array.shape)"
      ],
      "metadata": {
        "id": "Z1NiBmfi-SA4",
        "colab": {
          "base_uri": "https://localhost:8080/"
        },
        "outputId": "686934cb-6f54-4618-83fb-b8c37e6feb3c"
      },
      "execution_count": null,
      "outputs": [
        {
          "output_type": "stream",
          "name": "stdout",
          "text": [
            "[1 2 3 4 5]\n",
            "(5,)\n"
          ]
        }
      ]
    },
    {
      "cell_type": "code",
      "source": [
        "#1 dimentional\n",
        "np_array = np.array([(1, 2, 3, 4, 5)])\n",
        "print(np_array)\n",
        "print(np_array.shape)"
      ],
      "metadata": {
        "colab": {
          "base_uri": "https://localhost:8080/"
        },
        "id": "fPJcG6brDW4B",
        "outputId": "8faa848f-edd7-4c39-ba55-81787ec13d59"
      },
      "execution_count": null,
      "outputs": [
        {
          "output_type": "stream",
          "name": "stdout",
          "text": [
            "[[1 2 3 4 5]]\n",
            "(1, 5)\n"
          ]
        }
      ]
    },
    {
      "cell_type": "code",
      "source": [
        "#2dimentional\n",
        "np_array2 = np.array([(1, 2, 3, 4, 5), (8, 9, 0, 7, 6)])\n",
        "print(np_array2)\n",
        "print(np_array2.shape)\n",
        "#1st value represents rows and 2nd the no of columns"
      ],
      "metadata": {
        "colab": {
          "base_uri": "https://localhost:8080/"
        },
        "id": "HGW-Sy9sAM5E",
        "outputId": "a0662b7f-9892-4a6a-8ef4-6678cd915e69"
      },
      "execution_count": null,
      "outputs": [
        {
          "output_type": "stream",
          "name": "stdout",
          "text": [
            "[[1 2 3 4 5]\n",
            " [8 9 0 7 6]]\n",
            "(2, 5)\n"
          ]
        }
      ]
    },
    {
      "cell_type": "markdown",
      "source": [
        "Changing data type in array"
      ],
      "metadata": {
        "id": "Glbd5SEGZPd0"
      }
    },
    {
      "cell_type": "code",
      "source": [
        "#making all data type float since default is integers\n",
        "np_array3 = np.array([(1, 2, 3, 4, 5), (8, 9, 0, 7, 6)], dtype = float)\n",
        "print(np_array3)"
      ],
      "metadata": {
        "colab": {
          "base_uri": "https://localhost:8080/"
        },
        "id": "_YXPCwZeAmD_",
        "outputId": "42ce3214-ae95-49c2-e62e-07b53f46a8fb"
      },
      "execution_count": null,
      "outputs": [
        {
          "output_type": "stream",
          "name": "stdout",
          "text": [
            "[[1. 2. 3. 4. 5.]\n",
            " [8. 9. 0. 7. 6.]]\n"
          ]
        }
      ]
    },
    {
      "cell_type": "code",
      "source": [
        "#making all data type float by making some of the elements float\n",
        "np_array3 = np.array([(1, 2.2, 3, 4.9, 5), (8, 9.5, 0, 7, 6)])\n",
        "print(np_array3)"
      ],
      "metadata": {
        "colab": {
          "base_uri": "https://localhost:8080/"
        },
        "id": "qXlquDkjCFv_",
        "outputId": "c50d0b24-b4ca-4efc-bd56-9490c85c1ed7"
      },
      "execution_count": null,
      "outputs": [
        {
          "output_type": "stream",
          "name": "stdout",
          "text": [
            "[[1.  2.2 3.  4.9 5. ]\n",
            " [8.  9.5 0.  7.  6. ]]\n"
          ]
        }
      ]
    },
    {
      "cell_type": "code",
      "source": [
        "#making all data type float by making one of the elements float\n",
        "np_array3 = np.array([(1, 2., 3, 4, 5), (8, 9, 0, 7, 6)])\n",
        "print(np_array3)"
      ],
      "metadata": {
        "colab": {
          "base_uri": "https://localhost:8080/"
        },
        "id": "YnyXhKdeCUSM",
        "outputId": "d6422d03-7da0-4a24-a4af-6d6f4c8f5f4a"
      },
      "execution_count": null,
      "outputs": [
        {
          "output_type": "stream",
          "name": "stdout",
          "text": [
            "[[1. 2. 3. 4. 5.]\n",
            " [8. 9. 0. 7. 6.]]\n"
          ]
        }
      ]
    },
    {
      "cell_type": "markdown",
      "source": [
        "Initial Placeholder in numpy array"
      ],
      "metadata": {
        "id": "d9uPdQFVZUF6"
      }
    },
    {
      "cell_type": "code",
      "source": [
        "#creating an array of zeroes\n",
        "x = np.zeros((4, 5))\n",
        "print(x)\n",
        "y = np.ones((3, 3))\n",
        "print(y)\n",
        "#numpy has no attributes of twos or threes or tens etc. etc."
      ],
      "metadata": {
        "colab": {
          "base_uri": "https://localhost:8080/"
        },
        "id": "V-CgPPWBCpRW",
        "outputId": "de857499-14b3-49c1-bd13-a969b3127192"
      },
      "execution_count": null,
      "outputs": [
        {
          "output_type": "stream",
          "name": "stdout",
          "text": [
            "[[0. 0. 0. 0. 0.]\n",
            " [0. 0. 0. 0. 0.]\n",
            " [0. 0. 0. 0. 0.]\n",
            " [0. 0. 0. 0. 0.]]\n",
            "[[1. 1. 1.]\n",
            " [1. 1. 1.]\n",
            " [1. 1. 1.]]\n"
          ]
        }
      ]
    },
    {
      "cell_type": "code",
      "source": [
        "#for getting a particular number\n",
        "z = np.full((3, 4), 15)\n",
        "print(z)"
      ],
      "metadata": {
        "colab": {
          "base_uri": "https://localhost:8080/"
        },
        "id": "NEA5Oje7C9f_",
        "outputId": "631d710d-2f1f-42cc-d6cf-b74bbace6057"
      },
      "execution_count": null,
      "outputs": [
        {
          "output_type": "stream",
          "name": "stdout",
          "text": [
            "[[15 15 15 15]\n",
            " [15 15 15 15]\n",
            " [15 15 15 15]]\n"
          ]
        }
      ]
    },
    {
      "cell_type": "code",
      "source": [
        "#creating identity matrix\n",
        "a = np.eye(5)\n",
        "print(a)"
      ],
      "metadata": {
        "colab": {
          "base_uri": "https://localhost:8080/"
        },
        "id": "skG-PHFCD44N",
        "outputId": "14567002-75f1-4d8c-c945-4fd2a77b4248"
      },
      "execution_count": null,
      "outputs": [
        {
          "output_type": "stream",
          "name": "stdout",
          "text": [
            "[[1. 0. 0. 0. 0.]\n",
            " [0. 1. 0. 0. 0.]\n",
            " [0. 0. 1. 0. 0.]\n",
            " [0. 0. 0. 1. 0.]\n",
            " [0. 0. 0. 0. 1.]]\n"
          ]
        }
      ]
    },
    {
      "cell_type": "code",
      "source": [
        "#creat a numpy with random values\n",
        "b = np.random.random((3,5))\n",
        "print(b)\n",
        "#all values will be between 0 to 1(default)"
      ],
      "metadata": {
        "colab": {
          "base_uri": "https://localhost:8080/"
        },
        "id": "fK7nc0m7ElPP",
        "outputId": "05d1d1f0-158e-49fc-c668-3ca1a0f188dc"
      },
      "execution_count": null,
      "outputs": [
        {
          "output_type": "stream",
          "name": "stdout",
          "text": [
            "[[0.31787877 0.86339998 0.86425449 0.55976754 0.23684218]\n",
            " [0.80671999 0.1914891  0.91127821 0.00715152 0.55080421]\n",
            " [0.02553693 0.69450237 0.12569013 0.876268   0.48481697]]\n"
          ]
        }
      ]
    },
    {
      "cell_type": "code",
      "source": [
        "#random values which are intergers within a specific range\n",
        "c = np.random.randint(10, 100, (3, 5))\n",
        "print(c)"
      ],
      "metadata": {
        "colab": {
          "base_uri": "https://localhost:8080/"
        },
        "id": "G5nsm7DFFjyw",
        "outputId": "26257bf1-045c-4a1f-8aba-d5d194f8d519"
      },
      "execution_count": null,
      "outputs": [
        {
          "output_type": "stream",
          "name": "stdout",
          "text": [
            "[[48 13 77 16 24]\n",
            " [26 16 20 23 74]\n",
            " [68 67 65 73 60]]\n"
          ]
        }
      ]
    },
    {
      "cell_type": "code",
      "source": [
        "#array of evenly spaced values\n",
        "d = np.linspace(10, 30, 5)\n",
        "print(d)\n",
        "#where 5 is the number of values to be printed"
      ],
      "metadata": {
        "colab": {
          "base_uri": "https://localhost:8080/"
        },
        "id": "241hoBu6GSFT",
        "outputId": "7e544c69-daa4-4b10-8c2a-0a13e2085dd7"
      },
      "execution_count": null,
      "outputs": [
        {
          "output_type": "stream",
          "name": "stdout",
          "text": [
            "[10. 15. 20. 25. 30.]\n"
          ]
        }
      ]
    },
    {
      "cell_type": "code",
      "source": [
        "#array of evenly spaced values\n",
        "e = np.arange(10, 30, 5)\n",
        "print(e)\n",
        "#where 5 is the step value\n",
        "f = np.arange(10, 30, 6)\n",
        "print(f)"
      ],
      "metadata": {
        "colab": {
          "base_uri": "https://localhost:8080/"
        },
        "id": "aL3YnelKGZbY",
        "outputId": "57fc3e57-9a41-418f-ecda-411972929c36"
      },
      "execution_count": null,
      "outputs": [
        {
          "output_type": "stream",
          "name": "stdout",
          "text": [
            "[10 15 20 25]\n",
            "[10 16 22 28]\n"
          ]
        }
      ]
    },
    {
      "cell_type": "markdown",
      "source": [
        "Converting list to numpy array and vice-versa"
      ],
      "metadata": {
        "id": "WIbgBel5ZYca"
      }
    },
    {
      "cell_type": "code",
      "source": [
        "#converting list to numpy array\n",
        "list2 = [2, 4, 6, 8, 5, 3, 9]\n",
        "\n",
        "np_arr = np.asarray(list2)\n",
        "print (np_arr)\n",
        "type(np_arr)"
      ],
      "metadata": {
        "colab": {
          "base_uri": "https://localhost:8080/"
        },
        "id": "5YCYZ8mTKXsn",
        "outputId": "b11a974b-ec82-4382-e9ae-01b81f395324"
      },
      "execution_count": null,
      "outputs": [
        {
          "output_type": "stream",
          "name": "stdout",
          "text": [
            "[2 4 6 8 5 3 9]\n"
          ]
        },
        {
          "output_type": "execute_result",
          "data": {
            "text/plain": [
              "numpy.ndarray"
            ]
          },
          "metadata": {},
          "execution_count": 110
        }
      ]
    },
    {
      "cell_type": "code",
      "source": [
        "#converting array to list\n",
        "arr = np.array([4, 5, 6, 7, 8, 3])\n",
        "l = arr.tolist()\n",
        "print(l)\n",
        "type(l)"
      ],
      "metadata": {
        "colab": {
          "base_uri": "https://localhost:8080/"
        },
        "id": "E-DYN0BTZmyX",
        "outputId": "3bd6a254-2541-4d25-e9db-c18e747c0c11"
      },
      "execution_count": null,
      "outputs": [
        {
          "output_type": "stream",
          "name": "stdout",
          "text": [
            "[4, 5, 6, 7, 8, 3]\n"
          ]
        },
        {
          "output_type": "execute_result",
          "data": {
            "text/plain": [
              "list"
            ]
          },
          "metadata": {},
          "execution_count": 111
        }
      ]
    },
    {
      "cell_type": "markdown",
      "source": [
        "Analyzing a numpy array"
      ],
      "metadata": {
        "id": "3azHJCu0ZrYg"
      }
    },
    {
      "cell_type": "code",
      "source": [
        "m = np.random.randint(10, 90, (5, 5, 2))\n",
        "print(m)"
      ],
      "metadata": {
        "colab": {
          "base_uri": "https://localhost:8080/"
        },
        "id": "TFhtfnBYLKs-",
        "outputId": "cb3944d8-2bbf-4630-8767-5d712e1bbeae"
      },
      "execution_count": null,
      "outputs": [
        {
          "output_type": "stream",
          "name": "stdout",
          "text": [
            "[[[15 66]\n",
            "  [47 45]\n",
            "  [55 33]\n",
            "  [56 86]\n",
            "  [89 89]]\n",
            "\n",
            " [[12 60]\n",
            "  [24 39]\n",
            "  [52 64]\n",
            "  [15 57]\n",
            "  [21 44]]\n",
            "\n",
            " [[10 67]\n",
            "  [69 66]\n",
            "  [39 13]\n",
            "  [57 89]\n",
            "  [15 28]]\n",
            "\n",
            " [[27 46]\n",
            "  [30 42]\n",
            "  [67 16]\n",
            "  [17 32]\n",
            "  [27 37]]\n",
            "\n",
            " [[85 25]\n",
            "  [65 20]\n",
            "  [51 88]\n",
            "  [33 66]\n",
            "  [37 10]]]\n"
          ]
        }
      ]
    },
    {
      "cell_type": "code",
      "source": [
        "#dimentions of the array\n",
        "print(m.shape)\n",
        "#no of dimentions of the array\n",
        "print(m.ndim)\n",
        "#no of elements in the array\n",
        "print(m.size)\n",
        "#data type of the array\n",
        "print(m.dtype)"
      ],
      "metadata": {
        "colab": {
          "base_uri": "https://localhost:8080/"
        },
        "id": "NZAb-d8cLnX3",
        "outputId": "4914f68f-f560-4da5-aee9-9d9d71a62e9c"
      },
      "execution_count": null,
      "outputs": [
        {
          "output_type": "stream",
          "name": "stdout",
          "text": [
            "(5, 5, 2)\n",
            "3\n",
            "50\n",
            "int64\n"
          ]
        }
      ]
    },
    {
      "cell_type": "markdown",
      "source": [
        "Mathematical operation on nparray"
      ],
      "metadata": {
        "id": "4-qhSkyMZwDy"
      }
    },
    {
      "cell_type": "code",
      "source": [
        "list1 = [1, 3, 5, 7, 8, 2]\n",
        "list2 = [4, 5, 6, 7, 8, 3]\n",
        "print(list1 + list2)\n",
        "#not add the elements but concatenates both lists"
      ],
      "metadata": {
        "colab": {
          "base_uri": "https://localhost:8080/"
        },
        "id": "PsOocibbMyAL",
        "outputId": "6149aa21-c3c4-4cbc-c107-47051e91779d"
      },
      "execution_count": null,
      "outputs": [
        {
          "output_type": "stream",
          "name": "stdout",
          "text": [
            "[1, 3, 5, 7, 8, 2, 4, 5, 6, 7, 8, 3]\n"
          ]
        }
      ]
    },
    {
      "cell_type": "code",
      "source": [
        "p = np.array([1, 3, 5, 7, 8, 2])\n",
        "q = np.array([4, 5, 6, 7, 8, 3])\n",
        "print(p + q)\n",
        "#add the elements but not concatenates both lists\n",
        "print(p - q)\n",
        "print(p * q)\n",
        "print(p / q)"
      ],
      "metadata": {
        "colab": {
          "base_uri": "https://localhost:8080/"
        },
        "id": "s16iW-QzM-Yn",
        "outputId": "f4c6b246-5f77-4d67-f475-f73132c12412"
      },
      "execution_count": null,
      "outputs": [
        {
          "output_type": "stream",
          "name": "stdout",
          "text": [
            "[ 5  8 11 14 16  5]\n",
            "[-3 -2 -1  0  0 -1]\n",
            "[ 4 15 30 49 64  6]\n",
            "[0.25       0.6        0.83333333 1.         1.         0.66666667]\n"
          ]
        }
      ]
    },
    {
      "cell_type": "code",
      "source": [
        "#p = np.array([1, 3, 5, 7, 8, 2])\n",
        "#q = np.array([4, 5, 6, 7])\n",
        "#print(p + q)\n",
        "#print(p - q)\n",
        "#Eroor because different sizes of array"
      ],
      "metadata": {
        "id": "3Bro2Uo1Ob9K"
      },
      "execution_count": null,
      "outputs": []
    },
    {
      "cell_type": "code",
      "source": [
        "m = np.random.randint(10, 90, (3, 3))\n",
        "n = np.random.randint(90, 190, (3, 3))\n",
        "print(m)\n",
        "print(n)"
      ],
      "metadata": {
        "colab": {
          "base_uri": "https://localhost:8080/"
        },
        "id": "pvOC4uggNynP",
        "outputId": "eb013f53-c5be-45d4-cdd1-d0c4a1b9559b"
      },
      "execution_count": null,
      "outputs": [
        {
          "output_type": "stream",
          "name": "stdout",
          "text": [
            "[[80 15 14]\n",
            " [32 36 30]\n",
            " [85 66 87]]\n",
            "[[171 189 182]\n",
            " [ 97 130 159]\n",
            " [113 125 132]]\n"
          ]
        }
      ]
    },
    {
      "cell_type": "code",
      "source": [
        "print(np.add(m, n))\n",
        "print(np.subtract(m, n))\n",
        "print(np.multiply(m, n))\n",
        "print(np.divide(m, n))"
      ],
      "metadata": {
        "colab": {
          "base_uri": "https://localhost:8080/"
        },
        "id": "ixXoSGGiVzPG",
        "outputId": "800e6b37-0e27-4ac6-905c-e7ff7a5e3342"
      },
      "execution_count": null,
      "outputs": [
        {
          "output_type": "stream",
          "name": "stdout",
          "text": [
            "[[251 204 196]\n",
            " [129 166 189]\n",
            " [198 191 219]]\n",
            "[[ -91 -174 -168]\n",
            " [ -65  -94 -129]\n",
            " [ -28  -59  -45]]\n",
            "[[13680  2835  2548]\n",
            " [ 3104  4680  4770]\n",
            " [ 9605  8250 11484]]\n",
            "[[0.46783626 0.07936508 0.07692308]\n",
            " [0.32989691 0.27692308 0.18867925]\n",
            " [0.75221239 0.528      0.65909091]]\n"
          ]
        }
      ]
    },
    {
      "cell_type": "markdown",
      "source": [
        "ARRAY MANIPULATION"
      ],
      "metadata": {
        "id": "67xpeonwZ0lQ"
      }
    },
    {
      "cell_type": "code",
      "source": [
        "array  = np.random.randint(10, 90, (3,4))\n",
        "print(array)\n",
        "print(array.shape)"
      ],
      "metadata": {
        "colab": {
          "base_uri": "https://localhost:8080/"
        },
        "id": "uFui1hrNWRIm",
        "outputId": "550719fd-e07f-4369-879d-d45c50465abe"
      },
      "execution_count": null,
      "outputs": [
        {
          "output_type": "stream",
          "name": "stdout",
          "text": [
            "[[89 26 32 62]\n",
            " [37 31 47 67]\n",
            " [32 72 12 51]]\n",
            "(3, 4)\n"
          ]
        }
      ]
    },
    {
      "cell_type": "markdown",
      "source": [
        "Transnpose of array"
      ],
      "metadata": {
        "id": "q-qw_Y01Z4GY"
      }
    },
    {
      "cell_type": "code",
      "source": [
        "t = np.transpose(array)\n",
        "print(t)\n",
        "print(t.shape)"
      ],
      "metadata": {
        "colab": {
          "base_uri": "https://localhost:8080/"
        },
        "id": "54gP3gMfWb2T",
        "outputId": "b6eb3687-183d-4f75-ce3f-c44eae3fb8c9"
      },
      "execution_count": null,
      "outputs": [
        {
          "output_type": "stream",
          "name": "stdout",
          "text": [
            "[[89 37 32]\n",
            " [26 31 72]\n",
            " [32 47 12]\n",
            " [62 67 51]]\n",
            "(4, 3)\n"
          ]
        }
      ]
    },
    {
      "cell_type": "code",
      "source": [
        "array2 = np.random.randint(10, 90, (3,2))\n",
        "print(array2)\n",
        "print(array2.shape)"
      ],
      "metadata": {
        "colab": {
          "base_uri": "https://localhost:8080/"
        },
        "id": "CAnwJWsIWoN9",
        "outputId": "105c5480-fe3a-4f19-b369-4a8f0472c308"
      },
      "execution_count": null,
      "outputs": [
        {
          "output_type": "stream",
          "name": "stdout",
          "text": [
            "[[26 37]\n",
            " [35 54]\n",
            " [62 71]]\n",
            "(3, 2)\n"
          ]
        }
      ]
    },
    {
      "cell_type": "code",
      "source": [
        "t2 = array.T\n",
        "print(t2)\n",
        "print(t2.shape)"
      ],
      "metadata": {
        "colab": {
          "base_uri": "https://localhost:8080/"
        },
        "id": "P84x9EV9WvNl",
        "outputId": "373b1a0a-c4e0-441e-890f-83a18db21e97"
      },
      "execution_count": null,
      "outputs": [
        {
          "output_type": "stream",
          "name": "stdout",
          "text": [
            "[[89 37 32]\n",
            " [26 31 72]\n",
            " [32 47 12]\n",
            " [62 67 51]]\n",
            "(4, 3)\n"
          ]
        }
      ]
    },
    {
      "cell_type": "markdown",
      "source": [
        "### Reshaping array\n",
        "Same as transpose ig"
      ],
      "metadata": {
        "id": "CCeWH507Z-aK"
      }
    },
    {
      "cell_type": "code",
      "source": [
        "a = np.random.randint(10, 90, (5, 10))\n",
        "print(a)\n",
        "print(a.shape)"
      ],
      "metadata": {
        "colab": {
          "base_uri": "https://localhost:8080/"
        },
        "id": "zcEmPzPFXI_c",
        "outputId": "b69b9680-6416-4b15-d950-47e4ddc8ba29"
      },
      "execution_count": null,
      "outputs": [
        {
          "output_type": "stream",
          "name": "stdout",
          "text": [
            "[[71 20 57 41 74 87 75 29 47 13]\n",
            " [89 82 57 79 21 84 70 32 25 89]\n",
            " [27 59 56 55 37 26 42 70 57 22]\n",
            " [25 17 41 49 59 70 31 34 45 79]\n",
            " [31 38 88 68 60 67 88 17 10 74]]\n",
            "(5, 10)\n"
          ]
        }
      ]
    },
    {
      "cell_type": "code",
      "source": [
        "b = a.reshape(25, 2)\n",
        "print(b)\n",
        "print(b.shape)"
      ],
      "metadata": {
        "colab": {
          "base_uri": "https://localhost:8080/"
        },
        "id": "XwW6AcssXVh8",
        "outputId": "6fc83885-c6ac-47ce-8bda-b5f1570600f3"
      },
      "execution_count": null,
      "outputs": [
        {
          "output_type": "stream",
          "name": "stdout",
          "text": [
            "[[71 20]\n",
            " [57 41]\n",
            " [74 87]\n",
            " [75 29]\n",
            " [47 13]\n",
            " [89 82]\n",
            " [57 79]\n",
            " [21 84]\n",
            " [70 32]\n",
            " [25 89]\n",
            " [27 59]\n",
            " [56 55]\n",
            " [37 26]\n",
            " [42 70]\n",
            " [57 22]\n",
            " [25 17]\n",
            " [41 49]\n",
            " [59 70]\n",
            " [31 34]\n",
            " [45 79]\n",
            " [31 38]\n",
            " [88 68]\n",
            " [60 67]\n",
            " [88 17]\n",
            " [10 74]]\n",
            "(25, 2)\n"
          ]
        }
      ]
    },
    {
      "cell_type": "code",
      "source": [
        " "
      ],
      "metadata": {
        "id": "WSJHwXr4XrpH"
      },
      "execution_count": null,
      "outputs": []
    }
  ]
}